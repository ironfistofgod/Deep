{
 "cells": [
  {
   "cell_type": "markdown",
   "metadata": {},
   "source": [
    "**You may need to install [OpenCV](https://pypi.python.org/pypi/opencv-python) and [scikit-video](http://www.scikit-video.org/stable/).**"
   ]
  },
  {
   "cell_type": "code",
   "execution_count": 17,
   "metadata": {},
   "outputs": [],
   "source": [
    "import keras\n",
    "import numpy as np\n",
    "import io\n",
    "import base64\n",
    "from IPython.display import HTML\n",
    "import skvideo.io\n",
    "import cv2\n",
    "import json\n",
    "import random\n",
    "from keras.models import Sequential,model_from_json\n",
    "from keras.layers.core import Dense, Reshape, Flatten\n",
    "from keras.optimizers import sgd\n",
    "from keras.layers import Conv2D, MaxPooling2D, Activation, AveragePooling2D,Reshape,BatchNormalization"
   ]
  },
  {
   "cell_type": "markdown",
   "metadata": {},
   "source": [
    "# MiniProject #3: Deep Reinforcement Learning"
   ]
  },
  {
   "cell_type": "markdown",
   "metadata": {},
   "source": [
    "__Notations__: $E_p$ is the expectation under probability $p$. Please justify each of your answer and widely comment your code."
   ]
  },
  {
   "cell_type": "markdown",
   "metadata": {},
   "source": [
    "# Context"
   ]
  },
  {
   "cell_type": "markdown",
   "metadata": {},
   "source": [
    "In a reinforcement learning algorithm, we modelize each step $t$ as an action $a_t$ obtained from a state $s_t$, i.e. $\\{(a_{t},s_{t})_{t\\leq T}\\}$ having the Markov property. We consider a discount factor $\\gamma \\in [0,1]$ that ensures convergence. The goal is to find among all the policies $\\pi$, one that maximizes the expected reward:\n",
    "\n",
    "\\begin{equation*}\n",
    "R(\\pi)=\\sum_{t\\leq T}E_{p^{\\pi}}[\\gamma^t r(s_{t},a_{t})] \\> ,\n",
    "\\end{equation*}\n",
    "\n",
    "where: \n",
    "\\begin{equation*}p^{\\pi}(a_{0},a_{1},s_{1},...,a_{T},s_{T})=p(a_{0})\\prod_{t=1}^{T}\\pi(a_{t}|s_{t})p(s_{t+1}|s_{t},a_{t}) \\> .\n",
    "\\end{equation*}\n",
    "\n",
    "We note the $Q$-function:\n",
    "\n",
    "\\begin{equation*}Q^\\pi(s,a)=E_{p^{\\pi}}[\\sum_{t\\leq T}\\gamma^{t}r(s_{t},a_{t})|s_{0}=s,a_{0}=a] \\> .\n",
    "\\end{equation*}\n",
    "\n",
    "Thus, the optimal Q function is:\n",
    "\\begin{equation*}\n",
    "Q^*(s,a)=\\max_{\\pi}Q^\\pi(s,a) \\> .\n",
    "\\end{equation*}\n",
    "\n",
    "In this project, we will apply the deep reinforcement learning techniques to a simple game: an agent will have to learn from scratch a policy that will permit it maximizing a reward."
   ]
  },
  {
   "cell_type": "markdown",
   "metadata": {},
   "source": [
    "## The environment, the agent and the game"
   ]
  },
  {
   "cell_type": "markdown",
   "metadata": {},
   "source": [
    "### The environment"
   ]
  },
  {
   "cell_type": "markdown",
   "metadata": {},
   "source": [
    "```Environment``` is an abstract class that represents the states, rewards, and actions to obtain the new state."
   ]
  },
  {
   "cell_type": "code",
   "execution_count": 2,
   "metadata": {},
   "outputs": [],
   "source": [
    "class Environment(object):\n",
    "    def __init__(self):\n",
    "        pass\n",
    "\n",
    "    def act(self, act):\n",
    "        \"\"\"\n",
    "        One can act on the environment and obtain its reaction:\n",
    "        - the new state\n",
    "        - the reward of the new state\n",
    "        - should we continue the game?\n",
    "\n",
    "        :return: state, reward, game_over\n",
    "        \"\"\"\n",
    "        pass\n",
    "\n",
    "\n",
    "    def reset(self):\n",
    "        \"\"\"\n",
    "        Reinitialize the environment to a random state and returns\n",
    "        the original state\n",
    "\n",
    "        :return: state\n",
    "        \"\"\"\n",
    "        pass\n",
    "    \n",
    "    def draw(self):\n",
    "        \"\"\"\n",
    "        Visualize in the console or graphically the current state\n",
    "        \"\"\"\n",
    "        pass"
   ]
  },
  {
   "cell_type": "markdown",
   "metadata": {},
   "source": [
    "The method ```act``` allows to act on the environment at a given state $s_t$ (stored internally), via action $a_t$. The method will return the new state $s_{t+1}$, the reward $r(s_{t},a_{t})$ and determines if $t\\leq T$ (*game_over*).\n",
    "\n",
    "The method ```reset``` simply reinitializes the environment to a random state $s_0$.\n",
    "\n",
    "The method ```draw``` displays the current state $s_t$ (this is useful to check the behavior of the Agent).\n",
    "\n",
    "We modelize $s_t$ as a tensor, while $a_t$ is an integer."
   ]
  },
  {
   "cell_type": "markdown",
   "metadata": {},
   "source": [
    "### The Agent"
   ]
  },
  {
   "cell_type": "markdown",
   "metadata": {},
   "source": [
    "The goal of the ```Agent``` is to interact with the ```Environment``` by proposing actions $a_t$ obtained from a given state $s_t$ to attempt to maximize its __reward__ $r(s_t,a_t)$. We propose the following abstract class:"
   ]
  },
  {
   "cell_type": "code",
   "execution_count": 3,
   "metadata": {},
   "outputs": [],
   "source": [
    "class Agent(object):\n",
    "    def __init__(self, epsilon=0.1, n_action=4):\n",
    "        self.epsilon = epsilon\n",
    "        self.n_action = n_action\n",
    "    \n",
    "    def set_epsilon(self,e):\n",
    "        self.epsilon = e\n",
    "\n",
    "    def act(self,s,train=True):\n",
    "        \"\"\" This function should return the next action to do:\n",
    "        an integer between 0 and 4 (not included) with a random exploration of epsilon\"\"\"\n",
    "        if train:\n",
    "            if np.random.rand() <= self.epsilon:\n",
    "                a = np.random.randint(0, self.n_action, size=1)[0]\n",
    "            else:\n",
    "                a = self.learned_act(s)\n",
    "        else: # in some cases, this can improve the performance.. remove it if poor performances\n",
    "            a = self.learned_act(s)\n",
    "\n",
    "        return a\n",
    "\n",
    "    def learned_act(self,s):\n",
    "        \"\"\" Act via the policy of the agent, from a given state s\n",
    "        it proposes an action a\"\"\"\n",
    "        pass\n",
    "\n",
    "    def reinforce(self, s, n_s, a, r, game_over_):\n",
    "        \"\"\" This function is the core of the learning algorithm. \n",
    "        It takes as an input the current state s_, the next state n_s_\n",
    "        the action a_ used to move from s_ to n_s_ and the reward r_.\n",
    "        \n",
    "        Its goal is to learn a policy.\n",
    "        \"\"\"\n",
    "        pass\n",
    "\n",
    "    def save(self):\n",
    "        \"\"\" This function returns basic stats if applicable: the\n",
    "        loss and/or the model\"\"\"\n",
    "        pass\n",
    "\n",
    "    def load(self):\n",
    "        \"\"\" This function allows to restore a model\"\"\"\n",
    "        pass"
   ]
  },
  {
   "cell_type": "markdown",
   "metadata": {},
   "source": [
    "***\n",
    "__Question 1__:\n",
    "Explain the function act. Why is ```epsilon``` essential?"
   ]
  },
  {
   "cell_type": "markdown",
   "metadata": {},
   "source": [
    "The function act allows the agent to interact with the environment and take an action to move to the next state. In this case we have four actions which are randomly chosen and if the agent chooses a seemingly good action on chance then it may lock on to it even if it is suboptimal and keep exploiting the action without exploring the other options. To explore other options we introduce a parameter called epsilon which is a number between 0 and 1, and intoduce a condition that if the random number genrerated is less than epsilon then we stick to the current best action else we explore other action-states. Therfore the probability of exploring new action-states is given by the value of epsilon.\n"
   ]
  },
  {
   "cell_type": "markdown",
   "metadata": {},
   "source": [
    "***\n",
    "### The Game"
   ]
  },
  {
   "cell_type": "markdown",
   "metadata": {},
   "source": [
    "The ```Agent``` and the ```Environment``` work in an interlaced way as in the following (take some time to understand this code as it is the core of the project)\n",
    "\n",
    "```python\n",
    "\n",
    "epoch = 300\n",
    "env = Environment()\n",
    "agent = Agent()\n",
    "\n",
    "\n",
    "# Number of won games\n",
    "score = 0\n",
    "loss = 0\n",
    "\n",
    "\n",
    "for e in range(epoch):\n",
    "    # At each epoch, we restart to a fresh game and get the initial state\n",
    "    state = env.reset()\n",
    "    # This assumes that the games will end\n",
    "    game_over = False\n",
    "\n",
    "    win = 0\n",
    "    lose = 0\n",
    "    \n",
    "    while not game_over:\n",
    "        # The agent performs an action\n",
    "        action = agent.act(state)\n",
    "\n",
    "        # Apply an action to the environment, get the next state, the reward\n",
    "        # and if the games end\n",
    "        prev_state = state\n",
    "        state, reward, game_over = env.act(action)\n",
    "\n",
    "        # Update the counters\n",
    "        if reward > 0:\n",
    "            win = win + reward\n",
    "        if reward < 0:\n",
    "            lose = lose -reward\n",
    "\n",
    "        # Apply the reinforcement strategy\n",
    "        loss = agent.reinforce(prev_state, state,  action, reward, game_over)\n",
    "\n",
    "    # Save as a mp4\n",
    "    if e % 10 == 0:\n",
    "        env.draw(e)\n",
    "\n",
    "    # Update stats\n",
    "    score += win-lose\n",
    "\n",
    "    print(\"Epoch {:03d}/{:03d} | Loss {:.4f} | Win/lose count {}/{} ({})\"\n",
    "          .format(e, epoch, loss, win, lose, win-lose))\n",
    "    agent.save()\n",
    "```"
   ]
  },
  {
   "cell_type": "markdown",
   "metadata": {},
   "source": [
    "# The game, *eat cheese*"
   ]
  },
  {
   "cell_type": "markdown",
   "metadata": {},
   "source": [
    "A rat runs on an island and tries to eat as much as possible. The island is subdivided into $N\\times N$ cells, in which there are cheese (+0.5) and poisonous cells (-1). The rat has a visibility of 2 cells (thus it can see $5^2$ cells). The rat is given a time $T$ to accumulate as much food as possible. It can perform 4 actions: going up, down, left, right. \n",
    "\n",
    "The goal is to code an agent to solve this task that will learn by trial and error. We propose the following environment:"
   ]
  },
  {
   "cell_type": "code",
   "execution_count": 4,
   "metadata": {},
   "outputs": [],
   "source": [
    "class Environment(object):\n",
    "    def __init__(self, grid_size=10, max_time=500, temperature=0.1):\n",
    "        grid_size = grid_size+4\n",
    "        self.grid_size = grid_size\n",
    "        self.max_time = max_time\n",
    "        self.temperature = temperature\n",
    "\n",
    "        #board on which one plays\n",
    "        self.board = np.zeros((grid_size,grid_size))\n",
    "        self.position = np.zeros((grid_size,grid_size))\n",
    "\n",
    "        # coordinate of the cat\n",
    "        self.x = 0\n",
    "        self.y = 1\n",
    "\n",
    "        # self time\n",
    "        self.t = 0\n",
    "\n",
    "        self.scale=16\n",
    "\n",
    "        self.to_draw = np.zeros((max_time+2, grid_size*self.scale, grid_size*self.scale, 3))\n",
    "\n",
    "\n",
    "    def draw(self,e):\n",
    "        skvideo.io.vwrite(str(e) + '.mp4', self.to_draw)\n",
    "\n",
    "    def get_frame(self,t):\n",
    "        b = np.zeros((self.grid_size,self.grid_size,3))+128\n",
    "        b[self.board>0,0] = 256\n",
    "        b[self.board < 0, 2] = 256\n",
    "        b[self.x,self.y,:]=256\n",
    "        b[-2:,:,:]=0\n",
    "        b[:,-2:,:]=0\n",
    "        b[:2,:,:]=0\n",
    "        b[:,:2,:]=0\n",
    "        \n",
    "        b =  cv2.resize(b, None, fx=self.scale, fy=self.scale, interpolation=cv2.INTER_NEAREST)\n",
    "\n",
    "        self.to_draw[t,:,:,:]=b\n",
    "\n",
    "\n",
    "    def act(self, action):\n",
    "        \"\"\"This function returns the new state, reward and decides if the\n",
    "        game ends.\"\"\"\n",
    "\n",
    "        self.get_frame(int(self.t))\n",
    "\n",
    "        self.position = np.zeros((self.grid_size, self.grid_size))\n",
    "\n",
    "        self.position[0:2,:]= -1\n",
    "        self.position[:,0:2] = -1\n",
    "        self.position[-2:, :] = -1\n",
    "        self.position[:,-2:] = -1\n",
    "\n",
    "        self.position[self.x, self.y] = 1\n",
    "        if action == 0:\n",
    "            if self.x == self.grid_size-3:\n",
    "                self.x = self.x-1\n",
    "            else:\n",
    "                self.x = self.x + 1\n",
    "        elif action == 1:\n",
    "            if self.x == 2:\n",
    "                self.x = self.x+1\n",
    "            else:\n",
    "                self.x = self.x-1\n",
    "        elif action == 2:\n",
    "            if self.y == self.grid_size - 3:\n",
    "                self.y = self.y - 1\n",
    "            else:\n",
    "                self.y = self.y + 1\n",
    "        elif action == 3:\n",
    "            if self.y == 2:\n",
    "                self.y = self.y + 1\n",
    "            else:\n",
    "                self.y = self.y - 1\n",
    "        else:\n",
    "            RuntimeError('Error: action not recognized')\n",
    "\n",
    "        self.t = self.t + 1\n",
    "        reward = self.board[self.x, self.y]\n",
    "        self.board[self.x, self.y] = 0\n",
    "        game_over = self.t > self.max_time\n",
    "        state = np.concatenate((self.board.reshape(self.grid_size, self.grid_size,1),\n",
    "                        self.position.reshape(self.grid_size, self.grid_size,1)),axis=2)\n",
    "        state = state[self.x-2:self.x+3,self.y-2:self.y+3,:]\n",
    "\n",
    "        return state, reward, game_over\n",
    "\n",
    "    def reset(self):\n",
    "        \"\"\"This function resets the game and returns the initial state\"\"\"\n",
    "\n",
    "        self.x = np.random.randint(3, self.grid_size-3, size=1)[0]\n",
    "        self.y = np.random.randint(3, self.grid_size-3, size=1)[0]\n",
    "\n",
    "\n",
    "        bonus = 0.5*np.random.binomial(1,self.temperature,size=self.grid_size**2)\n",
    "        bonus = bonus.reshape(self.grid_size,self.grid_size)\n",
    "\n",
    "        malus = -1.0*np.random.binomial(1,self.temperature,size=self.grid_size**2)\n",
    "        malus = malus.reshape(self.grid_size, self.grid_size)\n",
    "\n",
    "        self.to_draw = np.zeros((self.max_time+2, self.grid_size*self.scale, self.grid_size*self.scale, 3))\n",
    "\n",
    "\n",
    "        malus[bonus>0]=0\n",
    "\n",
    "        self.board = bonus + malus\n",
    "\n",
    "        self.position = np.zeros((self.grid_size, self.grid_size))\n",
    "        self.position[0:2,:]= -1\n",
    "        self.position[:,0:2] = -1\n",
    "        self.position[-2:, :] = -1\n",
    "        self.position[-2:, :] = -1\n",
    "        self.board[self.x,self.y] = 0\n",
    "        self.t = 0\n",
    "\n",
    "        state = np.concatenate((\n",
    "                               self.board.reshape(self.grid_size, self.grid_size,1),\n",
    "                        self.position.reshape(self.grid_size, self.grid_size,1)),axis=2)\n",
    "\n",
    "        state = state[self.x - 2:self.x + 3, self.y - 2:self.y + 3, :]\n",
    "        return state"
   ]
  },
  {
   "cell_type": "markdown",
   "metadata": {},
   "source": [
    "The following elements are important because they correspond to the hyper parameters for this project:"
   ]
  },
  {
   "cell_type": "code",
   "execution_count": 5,
   "metadata": {},
   "outputs": [],
   "source": [
    "# parameters\n",
    "size = 13\n",
    "T=200\n",
    "temperature=0.3\n",
    "epochs_train=30 # set small when debugging\n",
    "epochs_test=30 # set small when debugging\n",
    "\n",
    "# display videos\n",
    "def display_videos(name):\n",
    "    video = io.open(name, 'r+b').read()\n",
    "    encoded = base64.b64encode(video)\n",
    "    return '''<video alt=\"test\" controls>\n",
    "                <source src=\"data:video/mp4;base64,{0}\" type=\"video/mp4\" />\n",
    "             </video>'''.format(encoded.decode('ascii'))"
   ]
  },
  {
   "cell_type": "markdown",
   "metadata": {},
   "source": [
    "__Question 2__ Explain the use of the arrays ```position``` and ```board```."
   ]
  },
  {
   "cell_type": "markdown",
   "metadata": {},
   "source": [
    "position: it gives the current location of the rat on the island, with value set to 1\n",
    "\n",
    "board: it is the entire area of the island defined by (gridsize * gridsize), each cell contains a potential reward based on the action of the rat. "
   ]
  },
  {
   "cell_type": "markdown",
   "metadata": {},
   "source": [
    "## Random Agent"
   ]
  },
  {
   "cell_type": "markdown",
   "metadata": {},
   "source": [
    "***\n",
    "__Question 3__ Implement a random Agent (only ```learned_act``` needs to be implemented):"
   ]
  },
  {
   "cell_type": "code",
   "execution_count": 6,
   "metadata": {},
   "outputs": [],
   "source": [
    "class RandomAgent(Agent):\n",
    "    def __init__(self):\n",
    "        super(RandomAgent, self).__init__()\n",
    "        pass\n",
    "\n",
    "    def learned_act(self, s):\n",
    "        return np.random.randint(0 ,4,size=1)\n",
    "        pass"
   ]
  },
  {
   "cell_type": "markdown",
   "metadata": {},
   "source": [
    "***\n",
    "***\n",
    "__Question 4__ Visualize the game moves. You need to fill in the following function for the evaluation:"
   ]
  },
  {
   "cell_type": "code",
   "execution_count": 9,
   "metadata": {},
   "outputs": [],
   "source": [
    "def test(agent,env,epochs,prefix=''):\n",
    "    # Number of won games\n",
    "    score = 0\n",
    "        \n",
    "    for e in range(epochs):\n",
    "        \n",
    "        ##### FILL IN HERE\n",
    "         # At each epoch, we restart to a fresh game and get the initial state\n",
    "        state = env.reset()\n",
    "        # This assumes that the games will end\n",
    "        game_over = False\n",
    "\n",
    "        win = 0\n",
    "        lose = 0\n",
    "\n",
    "        while not game_over:\n",
    "            # The agent performs an action\n",
    "            action = agent.act(state)\n",
    "\n",
    "            # Apply an action to the environment, get the next state, the reward\n",
    "            # and if the games end\n",
    "            prev_state = state\n",
    "            state, reward, game_over = env.act(action)\n",
    "\n",
    "            # Update the counters\n",
    "            if reward > 0:\n",
    "                win = win + reward\n",
    "            if reward < 0:\n",
    "                lose = lose -reward\n",
    "\n",
    "        \n",
    "        # Save as a mp4\n",
    "        env.draw(prefix+str(e))\n",
    "\n",
    "        # Update stats\n",
    "        score = score + win-lose\n",
    "\n",
    "        print(\"Win/lose count {}/{}. Average score ({})\"\n",
    "              .format(win, lose, score/(1+e)))\n",
    "    print('Final score: '+str(score/epochs))"
   ]
  },
  {
   "cell_type": "code",
   "execution_count": 10,
   "metadata": {},
   "outputs": [
    {
     "name": "stdout",
     "output_type": "stream",
     "text": [
      "Win/lose count 8.0/11.0. Average score (-3.0)\n",
      "Win/lose count 11.0/17.0. Average score (-4.5)\n",
      "Win/lose count 10.0/16.0. Average score (-5.0)\n",
      "Win/lose count 10.5/14.0. Average score (-4.625)\n",
      "Win/lose count 9.0/11.0. Average score (-4.1)\n",
      "Win/lose count 12.5/14.0. Average score (-3.6666666666666665)\n",
      "Win/lose count 15.5/15.0. Average score (-3.0714285714285716)\n",
      "Win/lose count 13.0/12.0. Average score (-2.5625)\n",
      "Win/lose count 11.0/15.0. Average score (-2.7222222222222223)\n",
      "Win/lose count 11.5/12.0. Average score (-2.5)\n",
      "Win/lose count 8.5/22.0. Average score (-3.5)\n",
      "Win/lose count 6.0/12.0. Average score (-3.7083333333333335)\n",
      "Win/lose count 10.5/11.0. Average score (-3.4615384615384617)\n",
      "Win/lose count 11.5/10.0. Average score (-3.107142857142857)\n",
      "Win/lose count 8.5/8.0. Average score (-2.8666666666666667)\n",
      "Win/lose count 7.5/10.0. Average score (-2.84375)\n",
      "Win/lose count 11.5/17.0. Average score (-3.0)\n",
      "Win/lose count 7.0/11.0. Average score (-3.0555555555555554)\n",
      "Win/lose count 11.0/15.0. Average score (-3.1052631578947367)\n",
      "Win/lose count 13.0/18.0. Average score (-3.2)\n",
      "Win/lose count 5.5/12.0. Average score (-3.357142857142857)\n",
      "Win/lose count 9.0/14.0. Average score (-3.4318181818181817)\n",
      "Win/lose count 8.5/11.0. Average score (-3.391304347826087)\n",
      "Win/lose count 13.0/23.0. Average score (-3.6666666666666665)\n",
      "Win/lose count 5.5/14.0. Average score (-3.86)\n",
      "Win/lose count 4.5/7.0. Average score (-3.8076923076923075)\n",
      "Win/lose count 12.5/17.0. Average score (-3.8333333333333335)\n",
      "Win/lose count 9.5/16.0. Average score (-3.9285714285714284)\n",
      "Win/lose count 10.5/18.0. Average score (-4.051724137931035)\n",
      "Win/lose count 6.0/11.0. Average score (-4.083333333333333)\n",
      "Final score: -4.083333333333333\n"
     ]
    },
    {
     "data": {
      "text/html": [
       "<video alt=\"test\" controls>\n",
       "                <source src=\"data:video/mp4;base64,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\" type=\"video/mp4\" />\n",
       "             </video>"
      ],
      "text/plain": [
       "<IPython.core.display.HTML object>"
      ]
     },
     "execution_count": 10,
     "metadata": {},
     "output_type": "execute_result"
    }
   ],
   "source": [
    "# Initialize the game\n",
    "env = Environment(grid_size=size, max_time=T,temperature=temperature)\n",
    "\n",
    "# Initialize the agent!\n",
    "agent = RandomAgent()\n",
    "\n",
    "test(agent,env,epochs_test,prefix='random')\n",
    "HTML(display_videos('random0.mp4'))"
   ]
  },
  {
   "cell_type": "markdown",
   "metadata": {},
   "source": [
    "***\n",
    "## DQN"
   ]
  },
  {
   "cell_type": "markdown",
   "metadata": {},
   "source": [
    "Let us assume here that $T=\\infty$.\n",
    "\n",
    "***\n",
    "__Question 5__ Let $\\pi$ be a policy, show that:\n",
    "\n",
    "\\begin{equation*}\n",
    "Q^{\\pi}(s,a)=E_{(s',a')\\sim p(.|s,a)}[r(s,a)+\\gamma Q^{\\pi}(s',a')]\n",
    "\\end{equation*}\n",
    "\n",
    "Then, show that for the optimal policy $\\pi^*$ (we assume its existence), the following holds: \n",
    "\n",
    "\\begin{equation*}\n",
    "Q^{*}(s,a)=E_{s'\\sim \\pi^*(.|s,a)}[r(s,a)+\\gamma\\max_{a'}Q^{*}(s',a')].\n",
    "\\end{equation*}\n",
    "Finally, deduce that a plausible objective is:\n",
    "\n",
    "\\begin{equation*}\n",
    "\\mathcal{L}(\\theta)=E_{s' \\sim \\pi^*(.|s,a)}\\Vert r+\\gamma\\max\\max_{a'}Q(s',a',\\theta)-Q(s,a,\\theta)\\Vert^{2}.\n",
    "\\end{equation*}\n",
    "\n",
    "\n"
   ]
  },
  {
   "cell_type": "markdown",
   "metadata": {},
   "source": [
    "(1)\n",
    "\n",
    "Given the Bellman equation:\n",
    "\n",
    "$$\\begin{align*}\n",
    "Q^{\\pi}(s,a) &amp; = E_{\\pi}[\\Sigma^{\\infty}_{t=0} \\gamma^t r_t(s_t, \\pi(s_t),s_{t+1}) | s_t = s,a_t = a] \\\\\n",
    "\\Rightarrow Q^{\\pi}(s_0,a_0) &amp; = E_{\\pi}[r_0(s_0,a_0,s_1)+\\Sigma^{\\infty}_{t=1} \\gamma^t r_t (s_t,\\pi(s_t),s_{t+1}) | s_0,a_0 ] \\\\\n",
    "&amp; = E_{\\pi}[r_0(s_0,a_0,s_1) + \\gamma E_{\\pi} \\{ \\Sigma_{t=1}^{\\infty} \\gamma^{t-1} r_t (s_t,\\pi(s_t),s_{t+1} | s_1,a_1 \\} s_0,a_0 ] \\\\\n",
    "&amp; = E_{\\pi} [r_0 (s_0,a_0,s_1)+\\gamma Q^{\\pi}(s_1,a_1)]\n",
    "\\end{align*}$$\n",
    "Therefore: $${Q^{\\pi}(s,a) = E_{(s',a') \\sim p(.|s,a)} [r(s,a)+\\gamma Q^{\\pi}(s',a')]}$$(2)\n",
    "\n",
    "Given the Bellman equation:\n",
    "\n",
    "$$V^{\\pi}(s_0) = E[\\Sigma^{\\infty}_{t=0} \\gamma^t r_t (s_t,\\pi(s_t),s_{t+1} | s_0] $$\n",
    "and $$V^*(s_0) = \\max E[\\Sigma^{\\infty}_{t=0}\\gamma^t r_t (s_t,\\pi(s_t),s_{t+1} | s_0] $$\n",
    "\n",
    "Then\n",
    "\n",
    "$$\\begin{align*} V^*(s_0) &amp; = \\underset{\\pi,a_0}{\\max} E[r_0(s_0,a_0,s_1) + \\Sigma^{\\infty}_{t=1} \\gamma^t r_t (s_t,\\pi(s_t),s_(t+1)|s_0] \\\\\n",
    "&amp; = \\underset{a_0}{\\max} E_{s_1} [r_0(s_0,a_0,s_1)+ \\gamma \\underset{\\pi}{\\max} \\Sigma^{\\infty}_{t=1} E_{s_2,s_3...} \\{ \\Sigma^{\\infty}_{t=1} \\gamma^{t-1} r_t(s_t,\\pi(s_{t+1}),s_{t+1} \\}  | s_0] \\\\\n",
    "&amp; = \\underset{a_0}{\\max} E_{s_1}[r_0(s_0,a_0,s_1)+\\gamma V^* (s_1)] \n",
    "\\end{align*}$$\n",
    "So: $$ V^*(s) = \\max E_{s'}[r(s,a,s')+\\gamma V^*(s')|s] $$\n",
    "\n",
    "Since $V^*(s) = \\underset{a'}{\\max}Q^*(s,a')$\n",
    "\n",
    "$$\\begin{align*}\n",
    "\\Rightarrow V^*(s) &amp; = \\underset{a}{\\max}E_{s'}[r(s,a,s')+\\gamma \\underset{a'}{\\max} Q^*(s',a')|s,a] \\\\\n",
    "\\Rightarrow Q^*(s,a) &amp; = E_{s'}[r(s,a,s')+\\gamma \\underset{a'}{\\max} Q^*(s',a')|s,a]\n",
    "\\end{align*}$$$$\n",
    "{Q^*(s,a) = E_{s'\\sim\\pi^*(.|s,a)}[r(s,a)+\\gamma \\underset{a'}{\\max} Q^*(s',a')]}$$\n",
    "(3)\n",
    "\n",
    "Given the loss function $\\mathcal{L}(\\theta)= [Q^*(s,a,\\theta) - Q(s,a,\\theta)]^2$\n",
    "\n",
    "By substituting $Q^*(s,a,\\theta)$, we get:\n",
    "\n",
    "$$\\mathcal{L}(\\theta) = [E_{s'\\sim \\pi^*(.|s,a,s')}[r(s,a,s')+\\gamma\\max_{a'}Q^{*}(s',a,\\theta)] - Q(s,a,\\theta)]^2$$$$ \\Rightarrow {\\mathcal{L}(\\theta)=E_{s' \\sim \\pi^*(.|s,a)}\\Vert r+\\gamma\\max\\max_{a'}Q(s',a',\\theta)-Q(s,a,\\theta)\\Vert^{2}} $$\n"
   ]
  },
  {
   "cell_type": "markdown",
   "metadata": {},
   "source": [
    "***\n",
    "The DQN-learning algorithm relies on these derivations to train the parameters $\\theta$ of a Deep Neural Network:\n",
    "\n",
    "1. At the state $s_t$, select the action $a_t$ with best reward using $Q_t$ and store the results;\n",
    "\n",
    "2. Obtain the new state $s_{t+1}$ from the environment $p$;\n",
    "\n",
    "3. Store $(s_t,a_t,s_{t+1})$;\n",
    "\n",
    "4. Obtain $Q_{t+1}$ by minimizing  $\\mathcal{L}$ from a recovered batch from the previously stored results.\n",
    "\n",
    "***\n",
    "__Question 6__ Implement the class ```Memory``` that stores moves (in a replay buffer) via ```remember``` and provides a ```random_access``` to these. Specify a maximum memory size to avoid side effects. You can for example use a ```list()``` and set by default ```max_memory=100```."
   ]
  },
  {
   "cell_type": "code",
   "execution_count": 11,
   "metadata": {},
   "outputs": [],
   "source": [
    "class Memory(object):\n",
    "    def __init__(self, max_memory=100):\n",
    "        self.max_memory = max_memory\n",
    "        self.memory = list()\n",
    "\n",
    "    def remember(self, m):\n",
    "        self.memory.append(m)\n",
    "        pass\n",
    "\n",
    "    def random_access(self):\n",
    "        r= np.random.randint(0, len(self.memory))\n",
    "        return self.memory[r]"
   ]
  },
  {
   "cell_type": "markdown",
   "metadata": {},
   "source": [
    "***\n",
    "The pipeline we will use for training is given below:"
   ]
  },
  {
   "cell_type": "code",
   "execution_count": 12,
   "metadata": {},
   "outputs": [],
   "source": [
    "def train(agent,env,epoch,prefix=''):\n",
    "    # Number of won games\n",
    "    score = 0\n",
    "    loss = 0\n",
    "\n",
    "    for e in range(epoch):\n",
    "        # At each epoch, we restart to a fresh game and get the initial state\n",
    "        state = env.reset()\n",
    "        # This assumes that the games will terminate\n",
    "        game_over = False\n",
    "\n",
    "        win = 0\n",
    "        lose = 0\n",
    "\n",
    "        while not game_over:\n",
    "            # The agent performs an action\n",
    "            action = agent.act(state)\n",
    "\n",
    "            # Apply an action to the environment, get the next state, the reward\n",
    "            # and if the games end\n",
    "            prev_state = state\n",
    "            state, reward, game_over = env.act(action)\n",
    "\n",
    "            # Update the counters\n",
    "            if reward > 0:\n",
    "                win = win + reward\n",
    "            if reward < 0:\n",
    "                lose = lose -reward\n",
    "\n",
    "            # Apply the reinforcement strategy\n",
    "            loss = agent.reinforce(prev_state, state,  action, reward, game_over)\n",
    "\n",
    "        # Save as a mp4\n",
    "        if e % 10 == 0:\n",
    "            env.draw(prefix+str(e))\n",
    "\n",
    "        # Update stats\n",
    "        score += win-lose\n",
    "\n",
    "        print(\"Epoch {:03d}/{:03d} | Loss {:.4f} | Win/lose count {}/{} ({})\"\n",
    "              .format(e, epoch, loss, win, lose, win-lose))\n",
    "        agent.save(name_weights=prefix+'model.h5',name_model=prefix+'model.json')"
   ]
  },
  {
   "cell_type": "markdown",
   "metadata": {},
   "source": [
    "***\n",
    "__Question 7__ Implement the DQN training algorithm using a cascade of fully connected layers. You can use different learning rate, batch size or memory size parameters. In particular, the loss might oscillate while the player will start to win the games. You have to find a good criterium."
   ]
  },
  {
   "cell_type": "code",
   "execution_count": 13,
   "metadata": {},
   "outputs": [],
   "source": [
    "class DQN(Agent):\n",
    "    def __init__(self, grid_size,  epsilon = 0.1, memory_size=100, batch_size = 16,n_state=2):\n",
    "        super(DQN, self).__init__(epsilon = epsilon)\n",
    "\n",
    "        # Discount for Q learning\n",
    "        self.discount = 0.99\n",
    "        \n",
    "        self.grid_size = grid_size\n",
    "        \n",
    "        # number of state\n",
    "        self.n_state = n_state\n",
    "\n",
    "        # Memory\n",
    "        self.memory = Memory(memory_size)\n",
    "        \n",
    "        # Batch size when learning\n",
    "        self.batch_size = batch_size\n",
    "\n",
    "    def learned_act(self, s):\n",
    "        acts_ = self.model.predict(np.reshape(s,(1,5,5,self.n_state)))\n",
    "        return np.argmax(acts_[0])\n",
    "        \n",
    "    def reinforce(self, s_, n_s_, a_, r_, game_over_):\n",
    "        # Two steps: first memorize the states, second learn from the pool\n",
    "\n",
    "        self.memory.remember([s_, n_s_, a_, r_, game_over_])\n",
    "        \n",
    "        input_states = np.zeros((self.batch_size, 5,5,self.n_state))\n",
    "        target_q = np.zeros((self.batch_size, 4))\n",
    "        \n",
    "        for i in range(self.batch_size):\n",
    "            current_state, next_state, action, reward, game_over_ = self.memory.random_access() #sample some moves\n",
    "            input_states[i] = current_state\n",
    "            \n",
    "            s_reshape=np.reshape(current_state,(1,5,5,self.n_state))\n",
    "            next_state=np.reshape(next_state,(1,5,5,self.n_state))\n",
    "            target_q[i] = self.model.predict(s_reshape)\n",
    "            \n",
    "           \n",
    "            if game_over_:\n",
    "\n",
    "                target_q[i,a_]= reward\n",
    "            else:\n",
    "                q = self.model.predict(next_state)\n",
    "                target_q[i,a_] = reward + self.discount * np.max(q)\n",
    "        \n",
    "        \n",
    "        ######## FILL IN\n",
    "        # HINT: Clip the target to avoid exploiding gradients.. -- clipping is a bit tighter\n",
    "        \n",
    "        target_q = np.clip(target_q, -3, 3)\n",
    "\n",
    "        l = self.model.train_on_batch(input_states, target_q)\n",
    "\n",
    "\n",
    "        return l\n",
    "\n",
    "    def save(self,name_weights='model.h5',name_model='model.json'):\n",
    "        self.model.save_weights(name_weights, overwrite=True)\n",
    "        with open(name_model, \"w\") as outfile:\n",
    "            json.dump(self.model.to_json(), outfile)\n",
    "            \n",
    "    def load(self,name_weights='model.h5',name_model='model.json'):\n",
    "        with open(name_model, \"r\") as jfile:\n",
    "            model = model_from_json(json.load(jfile))\n",
    "        model.load_weights(name_weights)\n",
    "        model.compile(\"sgd\", \"mse\")\n",
    "        self.model = model\n",
    "\n",
    "            \n",
    "class DQN_FC(DQN):\n",
    "    def __init__(self, *args, lr=0.1,**kwargs):\n",
    "        super(DQN_FC, self).__init__( *args,**kwargs)\n",
    "        \n",
    "        # NN Model\n",
    "        model = Sequential()\n",
    "        model.add(Reshape((5*5*self.n_state,), input_shape=(5,5,self.n_state)))\n",
    "        model.add(Dense(128,input_shape=(50,),init='uniform',activation='relu'))\n",
    "        model.add(Dense(64,init='uniform',activation='relu'))\n",
    "        model.add(Dense(32,init='uniform',activation='relu'))\n",
    "        model.add(Dense(16,activation='relu'))\n",
    "        model.add(Dense(8,activation='relu'))\n",
    "        model.add(Dense(4,init='uniform',activation='linear'))\n",
    "        model.compile(sgd(lr=lr, decay=1e-4, momentum=0.0), \"mse\")\n",
    "        self.model = model"
   ]
  },
  {
   "cell_type": "code",
   "execution_count": 14,
   "metadata": {},
   "outputs": [
    {
     "name": "stdout",
     "output_type": "stream",
     "text": [
      "WARNING:tensorflow:From /anaconda3/lib/python3.7/site-packages/tensorflow/python/framework/op_def_library.py:263: colocate_with (from tensorflow.python.framework.ops) is deprecated and will be removed in a future version.\n",
      "Instructions for updating:\n",
      "Colocations handled automatically by placer.\n"
     ]
    },
    {
     "name": "stderr",
     "output_type": "stream",
     "text": [
      "/anaconda3/lib/python3.7/site-packages/ipykernel_launcher.py:78: UserWarning: Update your `Dense` call to the Keras 2 API: `Dense(128, input_shape=(50,), activation=\"relu\", kernel_initializer=\"uniform\")`\n",
      "/anaconda3/lib/python3.7/site-packages/ipykernel_launcher.py:79: UserWarning: Update your `Dense` call to the Keras 2 API: `Dense(64, activation=\"relu\", kernel_initializer=\"uniform\")`\n",
      "/anaconda3/lib/python3.7/site-packages/ipykernel_launcher.py:80: UserWarning: Update your `Dense` call to the Keras 2 API: `Dense(32, activation=\"relu\", kernel_initializer=\"uniform\")`\n",
      "/anaconda3/lib/python3.7/site-packages/ipykernel_launcher.py:83: UserWarning: Update your `Dense` call to the Keras 2 API: `Dense(4, activation=\"linear\", kernel_initializer=\"uniform\")`\n"
     ]
    },
    {
     "name": "stdout",
     "output_type": "stream",
     "text": [
      "WARNING:tensorflow:From /anaconda3/lib/python3.7/site-packages/tensorflow/python/ops/math_ops.py:3066: to_int32 (from tensorflow.python.ops.math_ops) is deprecated and will be removed in a future version.\n",
      "Instructions for updating:\n",
      "Use tf.cast instead.\n",
      "Epoch 000/030 | Loss 0.0000 | Win/lose count 2.0/0 (2.0)\n",
      "Epoch 001/030 | Loss 0.0019 | Win/lose count 1.0/4.0 (-3.0)\n",
      "Epoch 002/030 | Loss 0.0040 | Win/lose count 4.5/2.0 (2.5)\n",
      "Epoch 003/030 | Loss 0.0000 | Win/lose count 0.5/2.0 (-1.5)\n",
      "Epoch 004/030 | Loss 0.0078 | Win/lose count 4.0/4.0 (0.0)\n",
      "Epoch 005/030 | Loss 0.0019 | Win/lose count 1.5/1.0 (0.5)\n",
      "Epoch 006/030 | Loss 0.0020 | Win/lose count 2.0/2.0 (0.0)\n",
      "Epoch 007/030 | Loss 0.0000 | Win/lose count 4.5/6.0 (-1.5)\n",
      "Epoch 008/030 | Loss 0.0000 | Win/lose count 4.0/7.0 (-3.0)\n",
      "Epoch 009/030 | Loss 0.0098 | Win/lose count 6.5/7.0 (-0.5)\n",
      "Epoch 010/030 | Loss 0.0273 | Win/lose count 8.0/12.0 (-4.0)\n",
      "Epoch 011/030 | Loss 0.0098 | Win/lose count 16.5/13.0 (3.5)\n",
      "Epoch 012/030 | Loss 0.0039 | Win/lose count 5.0/13.0 (-8.0)\n",
      "Epoch 013/030 | Loss 0.0077 | Win/lose count 7.5/14.0 (-6.5)\n",
      "Epoch 014/030 | Loss 0.0098 | Win/lose count 8.0/16.0 (-8.0)\n",
      "Epoch 015/030 | Loss 0.0137 | Win/lose count 7.5/16.0 (-8.5)\n",
      "Epoch 016/030 | Loss 0.0020 | Win/lose count 9.0/10.0 (-1.0)\n",
      "Epoch 017/030 | Loss 0.0098 | Win/lose count 7.5/11.0 (-3.5)\n",
      "Epoch 018/030 | Loss 0.0215 | Win/lose count 9.5/17.0 (-7.5)\n",
      "Epoch 019/030 | Loss 0.0117 | Win/lose count 11.5/18.0 (-6.5)\n",
      "Epoch 020/030 | Loss 0.0100 | Win/lose count 11.5/16.0 (-4.5)\n",
      "Epoch 021/030 | Loss 0.0000 | Win/lose count 11.5/16.0 (-4.5)\n",
      "Epoch 022/030 | Loss 0.0175 | Win/lose count 9.0/14.0 (-5.0)\n",
      "Epoch 023/030 | Loss 0.0273 | Win/lose count 13.5/16.0 (-2.5)\n",
      "Epoch 024/030 | Loss 0.0216 | Win/lose count 8.5/17.0 (-8.5)\n",
      "Epoch 025/030 | Loss 0.0312 | Win/lose count 8.5/12.0 (-3.5)\n",
      "Epoch 026/030 | Loss 0.0143 | Win/lose count 10.0/13.0 (-3.0)\n",
      "Epoch 027/030 | Loss 0.0292 | Win/lose count 8.5/8.0 (0.5)\n",
      "Epoch 028/030 | Loss 0.0040 | Win/lose count 13.5/11.0 (2.5)\n",
      "Epoch 029/030 | Loss 0.0085 | Win/lose count 10.0/15.0 (-5.0)\n"
     ]
    },
    {
     "data": {
      "text/html": [
       "<video alt=\"test\" controls>\n",
       "                <source src=\"data:video/mp4;base64,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\" type=\"video/mp4\" />\n",
       "             </video>"
      ],
      "text/plain": [
       "<IPython.core.display.HTML object>"
      ]
     },
     "execution_count": 14,
     "metadata": {},
     "output_type": "execute_result"
    }
   ],
   "source": [
    "env = Environment(grid_size=size, max_time=T, temperature=0.3)\n",
    "agent = DQN_FC(size, lr=.1, epsilon = 0.1, memory_size=2000, batch_size = 32)\n",
    "train(agent, env, epochs_train, prefix='fc_train')\n",
    "HTML(display_videos('fc_train10.mp4'))"
   ]
  },
  {
   "cell_type": "markdown",
   "metadata": {},
   "source": [
    "***\n",
    "***\n",
    "__Question 8__ Implement the DQN training algorithm using a CNN (for example, 2 convolutional layers and one final fully connected layer)."
   ]
  },
  {
   "cell_type": "code",
   "execution_count": 15,
   "metadata": {},
   "outputs": [],
   "source": [
    "class DQN_CNN(DQN):\n",
    "    def __init__(self, *args,lr=0.1,**kwargs):\n",
    "        super(DQN_CNN, self).__init__(*args,**kwargs)\n",
    "        \n",
    "        ###### FILL IN\n",
    "        model = Sequential()\n",
    "        model.add(Conv2D(32,kernel_size=(2,2),strides=(1,1),\n",
    "                         activation='relu',input_shape=(5,5,self.n_state)))\n",
    "        model.add(MaxPooling2D(pool_size=(2, 2), strides=(2, 2)))\n",
    "        model.add(Conv2D(64, (1, 1), activation='relu'))\n",
    "        model.add(MaxPooling2D(pool_size=(2, 2)))\n",
    "        model.add(Flatten())\n",
    "        model.add(Dense(4, activation='linear'))\n",
    "        model.compile(sgd(lr=lr, decay=1e-4, momentum=0.0), \"mse\")\n",
    "        self.model = model"
   ]
  },
  {
   "cell_type": "code",
   "execution_count": 21,
   "metadata": {},
   "outputs": [
    {
     "name": "stdout",
     "output_type": "stream",
     "text": [
      "Epoch 000/030 | Loss 0.0307 | Win/lose count 4.0/5.0 (-1.0)\n",
      "Epoch 001/030 | Loss 0.0011 | Win/lose count 5.5/3.0 (2.5)\n",
      "Epoch 002/030 | Loss 0.0316 | Win/lose count 4.5/2.0 (2.5)\n",
      "Epoch 003/030 | Loss 0.0066 | Win/lose count 4.0/10.0 (-6.0)\n",
      "Epoch 004/030 | Loss 0.0140 | Win/lose count 4.5/8.0 (-3.5)\n",
      "Epoch 005/030 | Loss 0.0105 | Win/lose count 5.5/14.0 (-8.5)\n",
      "Epoch 006/030 | Loss 0.0161 | Win/lose count 6.5/9.0 (-2.5)\n",
      "Epoch 007/030 | Loss 0.0196 | Win/lose count 3.5/4.0 (-0.5)\n",
      "Epoch 008/030 | Loss 0.0099 | Win/lose count 3.5/2.0 (1.5)\n",
      "Epoch 009/030 | Loss 0.0251 | Win/lose count 8.0/11.0 (-3.0)\n",
      "Epoch 010/030 | Loss 0.0212 | Win/lose count 7.0/10.0 (-3.0)\n",
      "Epoch 011/030 | Loss 0.0053 | Win/lose count 4.0/9.0 (-5.0)\n",
      "Epoch 012/030 | Loss 0.0111 | Win/lose count 3.5/8.0 (-4.5)\n",
      "Epoch 013/030 | Loss 0.0088 | Win/lose count 10.5/19.0 (-8.5)\n",
      "Epoch 014/030 | Loss 0.0034 | Win/lose count 2.0/1.0 (1.0)\n",
      "Epoch 015/030 | Loss 0.0209 | Win/lose count 4.5/11.0 (-6.5)\n",
      "Epoch 016/030 | Loss 0.0177 | Win/lose count 12.5/11.0 (1.5)\n",
      "Epoch 017/030 | Loss 0.0097 | Win/lose count 5.5/4.0 (1.5)\n",
      "Epoch 018/030 | Loss 0.0177 | Win/lose count 3.0/6.0 (-3.0)\n",
      "Epoch 019/030 | Loss 0.0168 | Win/lose count 7.5/14.0 (-6.5)\n",
      "Epoch 020/030 | Loss 0.0191 | Win/lose count 11.5/15.0 (-3.5)\n",
      "Epoch 021/030 | Loss 0.0363 | Win/lose count 4.0/9.0 (-5.0)\n",
      "Epoch 022/030 | Loss 0.0070 | Win/lose count 10.0/8.0 (2.0)\n",
      "Epoch 023/030 | Loss 0.0087 | Win/lose count 6.0/4.0 (2.0)\n",
      "Epoch 024/030 | Loss 0.0172 | Win/lose count 4.5/7.0 (-2.5)\n",
      "Epoch 025/030 | Loss 0.0314 | Win/lose count 6.0/8.0 (-2.0)\n",
      "Epoch 026/030 | Loss 0.0018 | Win/lose count 5.0/5.0 (0.0)\n",
      "Epoch 027/030 | Loss 0.0277 | Win/lose count 10.5/20.0 (-9.5)\n",
      "Epoch 028/030 | Loss 0.0161 | Win/lose count 12.0/12.0 (0.0)\n",
      "Epoch 029/030 | Loss 0.0254 | Win/lose count 2.0/6.0 (-4.0)\n"
     ]
    },
    {
     "data": {
      "text/html": [
       "<video alt=\"test\" controls>\n",
       "                <source src=\"data:video/mp4;base64,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\" type=\"video/mp4\" />\n",
       "             </video>"
      ],
      "text/plain": [
       "<IPython.core.display.HTML object>"
      ]
     },
     "execution_count": 21,
     "metadata": {},
     "output_type": "execute_result"
    }
   ],
   "source": [
    "env = Environment(grid_size=size, max_time=T, temperature=0.3)\n",
    "agent = DQN_CNN(size, lr=.1, epsilon = 0.1, memory_size=2000, batch_size = 32)\n",
    "train(agent,env,epochs_train,prefix='cnn_train')\n",
    "HTML(display_videos('cnn_train10.mp4'))"
   ]
  },
  {
   "cell_type": "markdown",
   "metadata": {},
   "source": [
    "***\n",
    "***\n",
    "__Question 9__ Test both algorithms and compare their performances. Which issue(s) do you observe? Observe also different behaviors by changing the temperature."
   ]
  },
  {
   "cell_type": "markdown",
   "metadata": {},
   "source": [
    "# Temperature set to 0.3"
   ]
  },
  {
   "cell_type": "code",
   "execution_count": 24,
   "metadata": {
    "scrolled": true
   },
   "outputs": [
    {
     "name": "stderr",
     "output_type": "stream",
     "text": [
      "/anaconda3/lib/python3.7/site-packages/ipykernel_launcher.py:78: UserWarning: Update your `Dense` call to the Keras 2 API: `Dense(128, input_shape=(50,), activation=\"relu\", kernel_initializer=\"uniform\")`\n",
      "/anaconda3/lib/python3.7/site-packages/ipykernel_launcher.py:79: UserWarning: Update your `Dense` call to the Keras 2 API: `Dense(64, activation=\"relu\", kernel_initializer=\"uniform\")`\n",
      "/anaconda3/lib/python3.7/site-packages/ipykernel_launcher.py:80: UserWarning: Update your `Dense` call to the Keras 2 API: `Dense(32, activation=\"relu\", kernel_initializer=\"uniform\")`\n",
      "/anaconda3/lib/python3.7/site-packages/ipykernel_launcher.py:83: UserWarning: Update your `Dense` call to the Keras 2 API: `Dense(4, activation=\"linear\", kernel_initializer=\"uniform\")`\n"
     ]
    },
    {
     "name": "stdout",
     "output_type": "stream",
     "text": [
      "Test of the CNN\n",
      "Win/lose count 1.5/1.0. Average score (0.5)\n",
      "Win/lose count 1.0/2.0. Average score (-0.25)\n",
      "Win/lose count 0.5/1.0. Average score (-0.3333333333333333)\n",
      "Win/lose count 3.0/2.0. Average score (0.0)\n",
      "Win/lose count 1.5/1.0. Average score (0.1)\n",
      "Win/lose count 1.5/3.0. Average score (-0.16666666666666666)\n",
      "Win/lose count 1.5/3.0. Average score (-0.35714285714285715)\n",
      "Win/lose count 2.0/1.0. Average score (-0.1875)\n",
      "Win/lose count 0.5/1.0. Average score (-0.2222222222222222)\n",
      "Win/lose count 2.0/5.0. Average score (-0.5)\n",
      "Win/lose count 2.5/5.0. Average score (-0.6818181818181818)\n",
      "Win/lose count 1.0/5.0. Average score (-0.9583333333333334)\n",
      "Win/lose count 2.0/2.0. Average score (-0.8846153846153846)\n",
      "Win/lose count 2.0/4.0. Average score (-0.9642857142857143)\n",
      "Win/lose count 1.0/0. Average score (-0.8333333333333334)\n",
      "Win/lose count 4.0/3.0. Average score (-0.71875)\n",
      "Win/lose count 2.5/6.0. Average score (-0.8823529411764706)\n",
      "Win/lose count 2.5/2.0. Average score (-0.8055555555555556)\n",
      "Win/lose count 2.0/1.0. Average score (-0.7105263157894737)\n",
      "Win/lose count 1.0/7.0. Average score (-0.975)\n",
      "Win/lose count 3.5/2.0. Average score (-0.8571428571428571)\n",
      "Win/lose count 0.5/2.0. Average score (-0.8863636363636364)\n",
      "Win/lose count 1.0/3.0. Average score (-0.9347826086956522)\n",
      "Win/lose count 3.0/2.0. Average score (-0.8541666666666666)\n",
      "Win/lose count 2.5/5.0. Average score (-0.92)\n",
      "Win/lose count 3.0/5.0. Average score (-0.9615384615384616)\n",
      "Win/lose count 1.0/6.0. Average score (-1.1111111111111112)\n",
      "Win/lose count 2.5/1.0. Average score (-1.0178571428571428)\n",
      "Win/lose count 2.5/7.0. Average score (-1.1379310344827587)\n",
      "Win/lose count 2.5/7.0. Average score (-1.25)\n",
      "Final score: -1.25\n",
      "Test of the FC\n",
      "Win/lose count 1.5/4.0. Average score (-2.5)\n",
      "Win/lose count 4.5/7.0. Average score (-2.5)\n",
      "Win/lose count 3.5/8.0. Average score (-3.1666666666666665)\n",
      "Win/lose count 3.5/10.0. Average score (-4.0)\n",
      "Win/lose count 2.0/5.0. Average score (-3.8)\n",
      "Win/lose count 2.0/3.0. Average score (-3.3333333333333335)\n",
      "Win/lose count 2.5/9.0. Average score (-3.7857142857142856)\n",
      "Win/lose count 1.0/4.0. Average score (-3.6875)\n",
      "Win/lose count 4.5/7.0. Average score (-3.5555555555555554)\n",
      "Win/lose count 3.5/6.0. Average score (-3.45)\n",
      "Win/lose count 3.0/7.0. Average score (-3.5)\n",
      "Win/lose count 4.5/5.0. Average score (-3.25)\n",
      "Win/lose count 3.0/5.0. Average score (-3.1538461538461537)\n",
      "Win/lose count 4.5/14.0. Average score (-3.607142857142857)\n",
      "Win/lose count 5.0/6.0. Average score (-3.433333333333333)\n",
      "Win/lose count 2.5/4.0. Average score (-3.3125)\n",
      "Win/lose count 0/4.0. Average score (-3.3529411764705883)\n",
      "Win/lose count 4.0/7.0. Average score (-3.3333333333333335)\n",
      "Win/lose count 4.5/4.0. Average score (-3.1315789473684212)\n",
      "Win/lose count 2.5/10.0. Average score (-3.35)\n",
      "Win/lose count 2.0/7.0. Average score (-3.4285714285714284)\n",
      "Win/lose count 1.5/7.0. Average score (-3.522727272727273)\n",
      "Win/lose count 2.5/5.0. Average score (-3.4782608695652173)\n",
      "Win/lose count 2.0/3.0. Average score (-3.375)\n",
      "Win/lose count 3.5/6.0. Average score (-3.34)\n",
      "Win/lose count 3.5/4.0. Average score (-3.230769230769231)\n",
      "Win/lose count 2.0/4.0. Average score (-3.185185185185185)\n",
      "Win/lose count 3.0/7.0. Average score (-3.2142857142857144)\n",
      "Win/lose count 4.0/8.0. Average score (-3.2413793103448274)\n",
      "Win/lose count 4.0/2.0. Average score (-3.066666666666667)\n",
      "Final score: -3.066666666666667\n"
     ]
    }
   ],
   "source": [
    "env = Environment(grid_size=size, max_time=T,temperature=0.3)\n",
    "agent_cnn = DQN_CNN(size, lr=.1, epsilon = 0.1, memory_size=2000, batch_size = 32)\n",
    "agent_cnn.load(name_weights='cnn_trainmodel.h5',name_model='cnn_trainmodel.json')\n",
    "\n",
    "agent_fc = DQN_FC(size, lr=.1, epsilon = 0.1, memory_size=2000, batch_size = 32)\n",
    "agent_cnn.load(name_weights='fc_trainmodel.h5',name_model='fc_trainmodel.json')\n",
    "print('Test of the CNN')\n",
    "test(agent_cnn,env,epochs_test,prefix='cnn_test')\n",
    "print('Test of the FC')\n",
    "test(agent_fc,env,epochs_test,prefix='fc_test')"
   ]
  },
  {
   "cell_type": "code",
   "execution_count": 25,
   "metadata": {},
   "outputs": [
    {
     "data": {
      "text/html": [
       "<video alt=\"test\" controls>\n",
       "                <source src=\"data:video/mp4;base64,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\" type=\"video/mp4\" />\n",
       "             </video>"
      ],
      "text/plain": [
       "<IPython.core.display.HTML object>"
      ]
     },
     "execution_count": 25,
     "metadata": {},
     "output_type": "execute_result"
    }
   ],
   "source": [
    "HTML(display_videos('cnn_test10.mp4'))"
   ]
  },
  {
   "cell_type": "code",
   "execution_count": 26,
   "metadata": {},
   "outputs": [
    {
     "data": {
      "text/html": [
       "<video alt=\"test\" controls>\n",
       "                <source src=\"data:video/mp4;base64,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\" type=\"video/mp4\" />\n",
       "             </video>"
      ],
      "text/plain": [
       "<IPython.core.display.HTML object>"
      ]
     },
     "execution_count": 26,
     "metadata": {},
     "output_type": "execute_result"
    }
   ],
   "source": [
    "HTML(display_videos('fc_test10.mp4'))"
   ]
  },
  {
   "cell_type": "markdown",
   "metadata": {},
   "source": [
    "# Temperature set to 0.9"
   ]
  },
  {
   "cell_type": "code",
   "execution_count": 35,
   "metadata": {},
   "outputs": [
    {
     "name": "stderr",
     "output_type": "stream",
     "text": [
      "/anaconda3/lib/python3.7/site-packages/ipykernel_launcher.py:78: UserWarning: Update your `Dense` call to the Keras 2 API: `Dense(128, input_shape=(50,), activation=\"relu\", kernel_initializer=\"uniform\")`\n",
      "/anaconda3/lib/python3.7/site-packages/ipykernel_launcher.py:79: UserWarning: Update your `Dense` call to the Keras 2 API: `Dense(64, activation=\"relu\", kernel_initializer=\"uniform\")`\n",
      "/anaconda3/lib/python3.7/site-packages/ipykernel_launcher.py:80: UserWarning: Update your `Dense` call to the Keras 2 API: `Dense(32, activation=\"relu\", kernel_initializer=\"uniform\")`\n",
      "/anaconda3/lib/python3.7/site-packages/ipykernel_launcher.py:83: UserWarning: Update your `Dense` call to the Keras 2 API: `Dense(4, activation=\"linear\", kernel_initializer=\"uniform\")`\n"
     ]
    },
    {
     "name": "stdout",
     "output_type": "stream",
     "text": [
      "Test of the CNN\n",
      "Win/lose count 5.0/0. Average score (5.0)\n",
      "Win/lose count 4.5/3.0. Average score (3.25)\n",
      "Win/lose count 4.0/0. Average score (3.5)\n",
      "Win/lose count 10.0/2.0. Average score (4.625)\n",
      "Win/lose count 7.0/1.0. Average score (4.9)\n",
      "Win/lose count 6.0/2.0. Average score (4.75)\n",
      "Win/lose count 8.5/0. Average score (5.285714285714286)\n",
      "Win/lose count 7.5/1.0. Average score (5.4375)\n",
      "Win/lose count 7.5/0. Average score (5.666666666666667)\n",
      "Win/lose count 9.5/1.0. Average score (5.95)\n",
      "Win/lose count 5.0/3.0. Average score (5.590909090909091)\n",
      "Win/lose count 6.0/1.0. Average score (5.541666666666667)\n",
      "Win/lose count 5.5/2.0. Average score (5.384615384615385)\n",
      "Win/lose count 6.0/2.0. Average score (5.285714285714286)\n",
      "Win/lose count 6.0/0. Average score (5.333333333333333)\n",
      "Win/lose count 4.5/3.0. Average score (5.09375)\n",
      "Win/lose count 3.0/0. Average score (4.970588235294118)\n",
      "Win/lose count 3.5/1.0. Average score (4.833333333333333)\n",
      "Win/lose count 3.5/0. Average score (4.7631578947368425)\n",
      "Win/lose count 7.5/0. Average score (4.9)\n",
      "Win/lose count 2.5/0. Average score (4.785714285714286)\n",
      "Win/lose count 6.0/0. Average score (4.840909090909091)\n",
      "Win/lose count 6.5/2.0. Average score (4.826086956521739)\n",
      "Win/lose count 5.5/0. Average score (4.854166666666667)\n",
      "Win/lose count 11.0/2.0. Average score (5.02)\n",
      "Win/lose count 5.0/1.0. Average score (4.980769230769231)\n",
      "Win/lose count 6.0/0. Average score (5.018518518518518)\n",
      "Win/lose count 8.0/2.0. Average score (5.053571428571429)\n",
      "Win/lose count 3.5/3.0. Average score (4.896551724137931)\n",
      "Win/lose count 7.5/0. Average score (4.983333333333333)\n",
      "Final score: 4.983333333333333\n",
      "Test of the FC\n",
      "Win/lose count 10.0/1.0. Average score (9.0)\n",
      "Win/lose count 6.0/0. Average score (7.5)\n",
      "Win/lose count 6.0/1.0. Average score (6.666666666666667)\n",
      "Win/lose count 8.0/0. Average score (7.0)\n",
      "Win/lose count 8.0/0. Average score (7.2)\n",
      "Win/lose count 7.5/2.0. Average score (6.916666666666667)\n",
      "Win/lose count 8.0/1.0. Average score (6.928571428571429)\n",
      "Win/lose count 4.5/2.0. Average score (6.375)\n",
      "Win/lose count 7.5/1.0. Average score (6.388888888888889)\n",
      "Win/lose count 6.0/1.0. Average score (6.25)\n",
      "Win/lose count 7.5/3.0. Average score (6.090909090909091)\n",
      "Win/lose count 4.5/2.0. Average score (5.791666666666667)\n",
      "Win/lose count 4.5/3.0. Average score (5.461538461538462)\n",
      "Win/lose count 8.0/0. Average score (5.642857142857143)\n",
      "Win/lose count 5.5/2.0. Average score (5.5)\n",
      "Win/lose count 5.0/0. Average score (5.46875)\n",
      "Win/lose count 4.5/0. Average score (5.411764705882353)\n",
      "Win/lose count 7.5/1.0. Average score (5.472222222222222)\n",
      "Win/lose count 7.0/3.0. Average score (5.394736842105263)\n",
      "Win/lose count 11.5/4.0. Average score (5.5)\n",
      "Win/lose count 10.0/7.0. Average score (5.380952380952381)\n",
      "Win/lose count 8.5/6.0. Average score (5.25)\n",
      "Win/lose count 10.0/2.0. Average score (5.369565217391305)\n",
      "Win/lose count 9.0/1.0. Average score (5.479166666666667)\n",
      "Win/lose count 4.5/0. Average score (5.44)\n",
      "Win/lose count 11.5/0. Average score (5.673076923076923)\n",
      "Win/lose count 12.0/2.0. Average score (5.833333333333333)\n",
      "Win/lose count 11.0/1.0. Average score (5.982142857142857)\n",
      "Win/lose count 7.0/2.0. Average score (5.948275862068965)\n",
      "Win/lose count 3.5/0. Average score (5.866666666666666)\n",
      "Final score: 5.866666666666666\n"
     ]
    }
   ],
   "source": [
    "env = Environment(grid_size=size, max_time=T,temperature=0.9)\n",
    "agent_cnn = DQN_CNN(size, lr=.1, epsilon = 0.1, memory_size=2000, batch_size = 32)\n",
    "agent_cnn.load(name_weights='cnn_trainmodel.h5',name_model='cnn_trainmodel.json')\n",
    "\n",
    "agent_fc = DQN_FC(size, lr=.1, epsilon = 0.1, memory_size=2000, batch_size = 32)\n",
    "agent_cnn.load(name_weights='fc_trainmodel.h5',name_model='fc_trainmodel.json')\n",
    "print('Test of the CNN')\n",
    "test(agent_cnn,env,epochs_test,prefix='cnn_test_09_')\n",
    "print('Test of the FC')\n",
    "test(agent_fc,env,epochs_test,prefix='fc_test_09_')"
   ]
  },
  {
   "cell_type": "markdown",
   "metadata": {},
   "source": [
    "The CNN models performs better  than the FC's.\n",
    "\n",
    "When we increase the temperature, results improve for both models because we are increasing the probability of having cheese and lowering the probability of poisonious cells\n",
    "\n",
    "But in both models, the agent stops exploring the island.\n",
    "\n"
   ]
  },
  {
   "cell_type": "markdown",
   "metadata": {},
   "source": [
    "***\n",
    "\n",
    "The algorithm tends to not explore the map which can be an issue. We propose two ideas in order to encourage exploration:\n",
    "1. Incorporating a decreasing $\\epsilon$-greedy exploration. You can use the method ```set_epsilon```\n",
    "2. Append via the environment a new state that describes if a cell has been visited or not\n",
    "\n",
    "***\n",
    "__Question 10__ Design a new ```train_explore``` function and environment class ```EnvironmentExploring``` to tackle the issue of exploration.\n",
    "\n"
   ]
  },
  {
   "cell_type": "code",
   "execution_count": 38,
   "metadata": {},
   "outputs": [],
   "source": [
    "def train_explore(agent,env,epoch,prefix=''):\n",
    "    # Number of won games\n",
    "    score = 0\n",
    "    loss = 0\n",
    "\n",
    "    for e in range(1,epoch+1):\n",
    "        # At each epoch, we restart to a fresh game and get the initial state\n",
    "        state = env.reset()\n",
    "        # This assumes that the games will terminate\n",
    "        game_over = False\n",
    "\n",
    "        win = 0\n",
    "        lose = 0\n",
    "\n",
    "        while not game_over:\n",
    "            # The agent performs an action\n",
    "            action = agent.act(state,train=True)\n",
    "\n",
    "            # Apply an action to the environment, get the next state, the reward\n",
    "            # and if the games end\n",
    "            prev_state = state\n",
    "            state, reward, game_over = env.act(action)\n",
    "\n",
    "            # Update the counters\n",
    "            if reward > 0:\n",
    "                win = win + reward\n",
    "            if reward < 0:\n",
    "                lose = lose - reward\n",
    "\n",
    "            # Apply the reinforcement strategy\n",
    "            loss = agent.reinforce(prev_state, state,  action, reward, game_over)\n",
    "\n",
    "        # Save as a mp4\n",
    "        if e % 10 == 0:\n",
    "            env.draw(prefix+str(e))\n",
    "\n",
    "        # Update stats\n",
    "        score += win-lose\n",
    "\n",
    "        print(\"Epoch {:03d}/{:03d} | Loss {:.4f} | Win/lose count {}/{} ({})\"\n",
    "              .format(e, epoch, loss, win, lose, win-lose))\n",
    "        agent.save(name_weights=prefix+'model.h5',name_model=prefix+'model.json')\n",
    "        \n",
    "\n",
    "def train_explore(agent,env,epoch,prefix=''):\n",
    "    # Number of won games\n",
    "    score = 0\n",
    "    loss = 0\n",
    "\n",
    "    for e in range(1,epoch+1):\n",
    "        # At each epoch, we restart to a fresh game and get the initial state\n",
    "        state = env.reset()\n",
    "        # This assumes that the games will terminate\n",
    "        game_over = False\n",
    "\n",
    "        win = 0\n",
    "        lose = 0\n",
    "\n",
    "        while not game_over:\n",
    "            # The agent performs an action\n",
    "            action = agent.act(state,train=True)\n",
    "\n",
    "            # Apply an action to the environment, get the next state, the reward\n",
    "            # and if the games end\n",
    "            prev_state = state\n",
    "            state, reward, game_over = env.act(action)\n",
    "\n",
    "            # Update the counters\n",
    "            if reward > 0:\n",
    "                win = win + reward\n",
    "            if reward < 0:\n",
    "                lose = lose - reward\n",
    "\n",
    "            # Apply the reinforcement strategy\n",
    "            loss = agent.reinforce(prev_state, state,  action, reward, game_over)\n",
    "\n",
    "        # Save as a mp4\n",
    "        if e % 10 == 0:\n",
    "            env.draw(prefix+str(e))\n",
    "\n",
    "        # Update stats\n",
    "        score += win-lose\n",
    "\n",
    "        print(\"Epoch {:03d}/{:03d} | Loss {:.4f} | Win/lose count {}/{} ({})\"\n",
    "              .format(e, epoch, loss, win, lose, win-lose))\n",
    "        agent.save(name_weights=prefix+'model.h5',name_model=prefix+'model.json')\n",
    "\n",
    "class EnvironmentExploring(object):\n",
    "    def __init__(self, grid_size=10, max_time=500, temperature=0.1):\n",
    "        grid_size = grid_size+4\n",
    "        self.grid_size = grid_size\n",
    "        self.max_time = max_time\n",
    "        self.temperature = temperature\n",
    "\n",
    "        #board on which one plays\n",
    "        self.board = np.zeros((grid_size,grid_size))\n",
    "        self.position = np.zeros((grid_size,grid_size))\n",
    "\n",
    "        # coordinate of the rat\n",
    "        self.x = 0\n",
    "        self.y = 1\n",
    "\n",
    "        self.malus_position = np.zeros((grid_size,grid_size))      \n",
    "        \n",
    "        # self time\n",
    "        self.t = 0\n",
    "\n",
    "        self.scale=16\n",
    "\n",
    "        self.to_draw = np.zeros((max_time+2, grid_size*self.scale, grid_size*self.scale, 3))\n",
    "\n",
    "\n",
    "    def draw(self,e):\n",
    "        skvideo.io.vwrite(str(e) + '.mp4', self.to_draw)\n",
    "\n",
    "    def get_frame(self,t):\n",
    "        b = np.zeros((self.grid_size,self.grid_size,3))+128\n",
    "        b[self.board>0,0] = 256\n",
    "        b[self.board < 0, 2] = 256\n",
    "        b[self.x,self.y,:]=256\n",
    "        b[-2:,:,:]=0\n",
    "        b[:,-2:,:]=0\n",
    "        b[:2,:,:]=0\n",
    "        b[:,:2,:]=0\n",
    "        \n",
    "        b =  cv2.resize(b, None, fx=self.scale, fy=self.scale, interpolation=cv2.INTER_NEAREST)\n",
    "\n",
    "        self.to_draw[t,:,:,:]=b\n",
    "\n",
    "\n",
    "    def act(self, action):\n",
    "        \"\"\"This function returns the new state, reward and decides if the\n",
    "        game ends.\"\"\"\n",
    "\n",
    "        self.get_frame(int(self.t))\n",
    "\n",
    "        self.position = np.zeros((self.grid_size, self.grid_size))\n",
    "\n",
    "        self.position[0:2,:]= -1\n",
    "        self.position[:,0:2] = -1\n",
    "        self.position[-2:, :] = -1\n",
    "        self.position[:,-2:] = -1\n",
    "\n",
    "        self.position[self.x, self.y] = 1\n",
    "        if action == 0:\n",
    "            if self.x == self.grid_size-3:\n",
    "                self.x = self.x-1\n",
    "            else:\n",
    "                self.x = self.x + 1\n",
    "        elif action == 1:\n",
    "            if self.x == 2:\n",
    "                self.x = self.x+1\n",
    "            else:\n",
    "                self.x = self.x-1\n",
    "        elif action == 2:\n",
    "            if self.y == self.grid_size - 3:\n",
    "                self.y = self.y - 1\n",
    "            else:\n",
    "                self.y = self.y + 1\n",
    "        elif action == 3:\n",
    "            if self.y == 2:\n",
    "                self.y = self.y + 1\n",
    "            else:\n",
    "                self.y = self.y - 1\n",
    "        else:\n",
    "            RuntimeError('Error: action not recognized')\n",
    "\n",
    "        self.t = self.t + 1\n",
    "       \n",
    "        reward = 0\n",
    "        if train:\n",
    "            reward = -self.malus_position[self.x, self.y]\n",
    "        self.malus_position[self.x, self.y] = 0.1 \n",
    "        reward = reward + self.board[self.x, self.y]\n",
    "       \n",
    "        self.board[self.x, self.y] = 0\n",
    "        game_over = self.t > self.max_time\n",
    "        \n",
    "        state = np.concatenate((self.malus_position.reshape(self.grid_size, self.grid_size,1), \n",
    "                                self.board.reshape(self.grid_size, self.grid_size,1), \n",
    "                        self.position.reshape(self.grid_size, self.grid_size,1)),axis=2)\n",
    "        \n",
    "        state = state[self.x-2:self.x+3,self.y-2:self.y+3,:]\n",
    "\n",
    "        return state, reward, game_over\n",
    "\n",
    "    def reset(self):\n",
    "        \"\"\"This function resets the game and returns the initial state\"\"\"\n",
    "\n",
    "        self.x = np.random.randint(3, self.grid_size-3, size=1)[0]\n",
    "        self.y = np.random.randint(3, self.grid_size-3, size=1)[0]\n",
    "\n",
    "\n",
    "        bonus = 0.5*np.random.binomial(1,self.temperature,size=self.grid_size**2)\n",
    "        bonus = bonus.reshape(self.grid_size,self.grid_size)\n",
    "\n",
    "        malus = -1.0*np.random.binomial(1,self.temperature,size=self.grid_size**2)\n",
    "        malus = malus.reshape(self.grid_size, self.grid_size)\n",
    "\n",
    "        self.to_draw = np.zeros((self.max_time+2, self.grid_size*self.scale, self.grid_size*self.scale, 3))\n",
    "\n",
    "\n",
    "        malus[bonus>0]=0\n",
    "\n",
    "        self.board = bonus + malus\n",
    "\n",
    "        self.position = np.zeros((self.grid_size, self.grid_size))\n",
    "        self.position[0:2,:]= -1\n",
    "        self.position[:,0:2] = -1\n",
    "        self.position[-2:, :] = -1\n",
    "        self.position[:,-2:] = -1\n",
    "        self.board[self.x,self.y] = 0\n",
    "        self.t = 0\n",
    "\n",
    "        \n",
    "        state = np.concatenate((self.malus_position.reshape(self.grid_size, self.grid_size,1), \n",
    "                                        self.board.reshape(self.grid_size, self.grid_size,1), \n",
    "                                self.position.reshape(self.grid_size, self.grid_size,1)),axis=2)\n",
    "\n",
    "        state = state[self.x - 2:self.x + 3, self.y - 2:self.y + 3, :]\n",
    "        return state\n"
   ]
  },
  {
   "cell_type": "code",
   "execution_count": 39,
   "metadata": {},
   "outputs": [
    {
     "name": "stdout",
     "output_type": "stream",
     "text": [
      "Epoch 001/030 | Loss 0.0185 | Win/lose count 5.0/23.30000000000006 (-18.30000000000006)\n",
      "Epoch 002/030 | Loss 0.0066 | Win/lose count 4.5/27.20000000000008 (-22.70000000000008)\n",
      "Epoch 003/030 | Loss 0.0335 | Win/lose count 8.900000000000002/29.300000000000125 (-20.400000000000123)\n",
      "Epoch 004/030 | Loss 0.0091 | Win/lose count 2.9/24.100000000000065 (-21.200000000000067)\n",
      "Epoch 005/030 | Loss 0.0264 | Win/lose count 5.800000000000001/35.100000000000136 (-29.300000000000136)\n",
      "Epoch 006/030 | Loss 0.0067 | Win/lose count 6.900000000000002/32.40000000000007 (-25.500000000000068)\n",
      "Epoch 007/030 | Loss 0.0071 | Win/lose count 3.1999999999999997/29.00000000000015 (-25.80000000000015)\n",
      "Epoch 008/030 | Loss 0.0086 | Win/lose count 3.6999999999999997/34.2000000000001 (-30.500000000000103)\n",
      "Epoch 009/030 | Loss 0.0067 | Win/lose count 6.400000000000001/35.20000000000014 (-28.800000000000136)\n",
      "Epoch 010/030 | Loss 0.0093 | Win/lose count 3.9999999999999996/35.500000000000114 (-31.500000000000114)\n",
      "Epoch 011/030 | Loss 0.0095 | Win/lose count 7.200000000000002/36.20000000000008 (-29.000000000000078)\n",
      "Epoch 012/030 | Loss 0.0051 | Win/lose count 6.400000000000001/33.400000000000134 (-27.00000000000013)\n",
      "Epoch 013/030 | Loss 0.0066 | Win/lose count 7.200000000000002/36.30000000000013 (-29.10000000000013)\n",
      "Epoch 014/030 | Loss 0.0546 | Win/lose count 5.2/27.800000000000086 (-22.600000000000087)\n",
      "Epoch 015/030 | Loss 0.0095 | Win/lose count 9.600000000000003/31.700000000000138 (-22.100000000000136)\n",
      "Epoch 016/030 | Loss 0.0068 | Win/lose count 9.600000000000003/33.60000000000013 (-24.000000000000128)\n",
      "Epoch 017/030 | Loss 0.0532 | Win/lose count 7.200000000000002/28.300000000000118 (-21.100000000000115)\n",
      "Epoch 018/030 | Loss 0.0087 | Win/lose count 5.6000000000000005/37.70000000000013 (-32.10000000000013)\n",
      "Epoch 019/030 | Loss 0.0019 | Win/lose count 7.200000000000002/24.100000000000087 (-16.900000000000084)\n",
      "Epoch 020/030 | Loss 0.0522 | Win/lose count 6.800000000000002/22.400000000000045 (-15.600000000000044)\n",
      "Epoch 021/030 | Loss 0.0048 | Win/lose count 8.400000000000002/25.00000000000007 (-16.60000000000007)\n",
      "Epoch 022/030 | Loss 0.0073 | Win/lose count 6.000000000000001/25.600000000000044 (-19.600000000000044)\n",
      "Epoch 023/030 | Loss 0.0046 | Win/lose count 5.2/28.500000000000057 (-23.300000000000058)\n",
      "Epoch 024/030 | Loss 0.0092 | Win/lose count 7.200000000000002/29.300000000000125 (-22.100000000000122)\n",
      "Epoch 025/030 | Loss 0.0082 | Win/lose count 11.200000000000005/33.100000000000136 (-21.900000000000134)\n",
      "Epoch 026/030 | Loss 0.0023 | Win/lose count 6.500000000000001/27.00000000000005 (-20.50000000000005)\n",
      "Epoch 027/030 | Loss 0.0101 | Win/lose count 2.5/23.300000000000065 (-20.800000000000065)\n",
      "Epoch 028/030 | Loss 0.0103 | Win/lose count 7.300000000000002/31.000000000000117 (-23.700000000000117)\n",
      "Epoch 029/030 | Loss 0.0057 | Win/lose count 12.400000000000006/33.00000000000008 (-20.600000000000072)\n",
      "Epoch 030/030 | Loss 0.0071 | Win/lose count 5.2/23.800000000000043 (-18.600000000000044)\n"
     ]
    },
    {
     "data": {
      "text/html": [
       "<video alt=\"test\" controls>\n",
       "                <source src=\"data:video/mp4;base64,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\" type=\"video/mp4\" />\n",
       "             </video>"
      ],
      "text/plain": [
       "<IPython.core.display.HTML object>"
      ]
     },
     "execution_count": 39,
     "metadata": {},
     "output_type": "execute_result"
    }
   ],
   "source": [
    "# Training\n",
    "env = EnvironmentExploring(grid_size=size, max_time=T, temperature=0.3)\n",
    "agent = DQN_CNN(size, lr=.1, epsilon = 0.1, memory_size=2000, batch_size = 32,n_state=3)\n",
    "train_explore(agent, env, epochs_train, prefix='cnn_train_explore')\n",
    "HTML(display_videos('cnn_train_explore10.mp4'))"
   ]
  },
  {
   "cell_type": "code",
   "execution_count": 40,
   "metadata": {},
   "outputs": [
    {
     "name": "stdout",
     "output_type": "stream",
     "text": [
      "Win/lose count 1.2000000000000002/21.800000000000047. Average score (-20.600000000000048)\n",
      "Win/lose count 3.9999999999999996/25.1000000000001. Average score (-20.850000000000072)\n",
      "Win/lose count 5.2/24.80000000000006. Average score (-20.4333333333334)\n",
      "Win/lose count 2.8/25.400000000000066. Average score (-20.97500000000007)\n",
      "Win/lose count 4.3999999999999995/40.00000000000017. Average score (-23.900000000000087)\n",
      "Win/lose count 1.6/21.70000000000001. Average score (-23.26666666666674)\n",
      "Win/lose count 3.9999999999999996/31.10000000000014. Average score (-23.8142857142858)\n",
      "Win/lose count 1.6/25.700000000000102. Average score (-23.850000000000087)\n",
      "Win/lose count 7.200000000000002/26.30000000000007. Average score (-23.322222222222308)\n",
      "Win/lose count 2.8/25.4000000000001. Average score (-23.250000000000085)\n",
      "Win/lose count 5.2/26.80000000000008. Average score (-23.100000000000083)\n",
      "Win/lose count 5.2/21.800000000000047. Average score (-22.55833333333342)\n",
      "Win/lose count 7.200000000000002/23.30000000000005. Average score (-22.061538461538547)\n",
      "Win/lose count 5.6000000000000005/24.700000000000095. Average score (-21.850000000000083)\n",
      "Win/lose count 3.1999999999999997/29.300000000000118. Average score (-22.13333333333342)\n",
      "Win/lose count 1.2000000000000002/21.800000000000043. Average score (-22.037500000000087)\n",
      "Win/lose count 5.2/31.70000000000011. Average score (-22.30000000000009)\n",
      "Win/lose count 4.8/31.900000000000148. Average score (-22.56666666666676)\n",
      "Win/lose count 6.400000000000001/23.500000000000046. Average score (-22.278947368421143)\n",
      "Win/lose count 3.5999999999999996/26.20000000000008. Average score (-22.29500000000009)\n",
      "Win/lose count 3.5999999999999996/21.20000000000004. Average score (-22.071428571428658)\n",
      "Win/lose count 1.6/27.70000000000013. Average score (-22.254545454545543)\n",
      "Win/lose count 5.6000000000000005/26.700000000000077. Average score (-22.204347826087044)\n",
      "Win/lose count 5.6000000000000005/24.700000000000056. Average score (-22.075000000000088)\n",
      "Win/lose count 6.000000000000001/28.600000000000065. Average score (-22.096000000000085)\n",
      "Win/lose count 2.0/26.600000000000072. Average score (-22.192307692307775)\n",
      "Win/lose count 4.8/21.900000000000045. Average score (-22.00370370370379)\n",
      "Win/lose count 5.2/31.80000000000012. Average score (-22.167857142857226)\n",
      "Win/lose count 6.000000000000001/26.600000000000048. Average score (-22.113793103448355)\n",
      "Win/lose count 3.5999999999999996/26.200000000000102. Average score (-22.130000000000077)\n",
      "Final score: -22.130000000000077\n"
     ]
    },
    {
     "data": {
      "text/html": [
       "<video alt=\"test\" controls>\n",
       "                <source src=\"data:video/mp4;base64,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\" type=\"video/mp4\" />\n",
       "             </video>"
      ],
      "text/plain": [
       "<IPython.core.display.HTML object>"
      ]
     },
     "execution_count": 40,
     "metadata": {},
     "output_type": "execute_result"
    }
   ],
   "source": [
    "# Evaluation\n",
    "test(agent,env,epochs_test,prefix='cnn_test_explore')\n",
    "HTML(display_videos('cnn_test_explore10.mp4'))"
   ]
  },
  {
   "cell_type": "markdown",
   "metadata": {},
   "source": [
    "***\n",
    "***\n",
    "__BONUS question__ Use the expert DQN from the previous question to generate some winning games. Train a model that mimicks its behavior. Compare the performances."
   ]
  },
  {
   "cell_type": "markdown",
   "metadata": {},
   "source": []
  },
  {
   "cell_type": "markdown",
   "metadata": {},
   "source": [
    "***"
   ]
  }
 ],
 "metadata": {
  "kernelspec": {
   "display_name": "Python 3",
   "language": "python",
   "name": "python3"
  },
  "language_info": {
   "codemirror_mode": {
    "name": "ipython",
    "version": 3
   },
   "file_extension": ".py",
   "mimetype": "text/x-python",
   "name": "python",
   "nbconvert_exporter": "python",
   "pygments_lexer": "ipython3",
   "version": "3.7.1"
  }
 },
 "nbformat": 4,
 "nbformat_minor": 2
}
